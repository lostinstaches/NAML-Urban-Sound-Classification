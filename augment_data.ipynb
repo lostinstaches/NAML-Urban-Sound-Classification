{
 "cells": [
  {
   "cell_type": "code",
   "execution_count": 7,
   "metadata": {
    "collapsed": true,
    "pycharm": {
     "name": "#%%\n"
    }
   },
   "outputs": [
    {
     "name": "stdout",
     "output_type": "stream",
     "text": [
      "Processing files with deformer: bgnoise ⚙️\n"
     ]
    },
    {
     "name": "stderr",
     "output_type": "stream",
     "text": [
      "  0%|          | 0/837 [00:00<?, ?it/s]/Users/leol/Github/NAML-Urban-Sound-Classification/.venv/lib/python3.10/site-packages/muda/deformers/background.py:107: FutureWarning: Pass orig_sr=44100, target_sr=22050 as keyword args. From version 0.10 passing these as positional arguments will result in an error\n",
      "  y = librosa.resample(y, soundf.samplerate, sr)\n",
      "/Users/leol/Github/NAML-Urban-Sound-Classification/.venv/lib/python3.10/site-packages/muda/deformers/background.py:110: FutureWarning: Pass size=14300 as keyword args. From version 0.10 passing these as positional arguments will result in an error\n",
      "  y = librosa.util.fix_length(y, n_samples)\n",
      "/Users/leol/Github/NAML-Urban-Sound-Classification/.venv/lib/python3.10/site-packages/muda/deformers/background.py:110: FutureWarning: Pass size=23153 as keyword args. From version 0.10 passing these as positional arguments will result in an error\n",
      "  y = librosa.util.fix_length(y, n_samples)\n",
      "  0%|          | 2/837 [00:00<00:51, 16.08it/s]/Users/leol/Github/NAML-Urban-Sound-Classification/.venv/lib/python3.10/site-packages/muda/deformers/background.py:110: FutureWarning: Pass size=8938 as keyword args. From version 0.10 passing these as positional arguments will result in an error\n",
      "  y = librosa.util.fix_length(y, n_samples)\n",
      "/Users/leol/Github/NAML-Urban-Sound-Classification/.venv/lib/python3.10/site-packages/muda/deformers/background.py:110: FutureWarning: Pass size=35721 as keyword args. From version 0.10 passing these as positional arguments will result in an error\n",
      "  y = librosa.util.fix_length(y, n_samples)\n",
      "  0%|          | 4/837 [00:00<00:53, 15.52it/s]/Users/leol/Github/NAML-Urban-Sound-Classification/.venv/lib/python3.10/site-packages/muda/deformers/background.py:110: FutureWarning: Pass size=41013 as keyword args. From version 0.10 passing these as positional arguments will result in an error\n",
      "  y = librosa.util.fix_length(y, n_samples)\n",
      "/Users/leol/Github/NAML-Urban-Sound-Classification/.venv/lib/python3.10/site-packages/muda/deformers/background.py:110: FutureWarning: Pass size=88200 as keyword args. From version 0.10 passing these as positional arguments will result in an error\n",
      "  y = librosa.util.fix_length(y, n_samples)\n",
      "  2%|▏         | 17/837 [00:02<02:43,  5.03it/s]/Users/leol/Github/NAML-Urban-Sound-Classification/.venv/lib/python3.10/site-packages/muda/deformers/background.py:110: FutureWarning: Pass size=11687 as keyword args. From version 0.10 passing these as positional arguments will result in an error\n",
      "  y = librosa.util.fix_length(y, n_samples)\n",
      "/Users/leol/Github/NAML-Urban-Sound-Classification/.venv/lib/python3.10/site-packages/muda/deformers/background.py:110: FutureWarning: Pass size=8568 as keyword args. From version 0.10 passing these as positional arguments will result in an error\n",
      "  y = librosa.util.fix_length(y, n_samples)\n",
      "  8%|▊         | 71/837 [00:13<02:55,  4.36it/s]/Users/leol/Github/NAML-Urban-Sound-Classification/.venv/lib/python3.10/site-packages/muda/deformers/background.py:110: FutureWarning: Pass size=27751 as keyword args. From version 0.10 passing these as positional arguments will result in an error\n",
      "  y = librosa.util.fix_length(y, n_samples)\n",
      "/Users/leol/Github/NAML-Urban-Sound-Classification/.venv/lib/python3.10/site-packages/muda/deformers/background.py:110: FutureWarning: Pass size=9673 as keyword args. From version 0.10 passing these as positional arguments will result in an error\n",
      "  y = librosa.util.fix_length(y, n_samples)\n",
      " 16%|█▌        | 134/837 [00:26<02:20,  4.99it/s]/Users/leol/Github/NAML-Urban-Sound-Classification/.venv/lib/python3.10/site-packages/muda/deformers/background.py:110: FutureWarning: Pass size=67253 as keyword args. From version 0.10 passing these as positional arguments will result in an error\n",
      "  y = librosa.util.fix_length(y, n_samples)\n",
      " 16%|█▌        | 135/837 [00:26<02:11,  5.35it/s]/Users/leol/Github/NAML-Urban-Sound-Classification/.venv/lib/python3.10/site-packages/muda/deformers/background.py:110: FutureWarning: Pass size=62843 as keyword args. From version 0.10 passing these as positional arguments will result in an error\n",
      "  y = librosa.util.fix_length(y, n_samples)\n",
      " 16%|█▌        | 136/837 [00:26<02:02,  5.73it/s]/Users/leol/Github/NAML-Urban-Sound-Classification/.venv/lib/python3.10/site-packages/muda/deformers/background.py:110: FutureWarning: Pass size=8379 as keyword args. From version 0.10 passing these as positional arguments will result in an error\n",
      "  y = librosa.util.fix_length(y, n_samples)\n",
      " 17%|█▋        | 139/837 [00:27<01:50,  6.32it/s]/Users/leol/Github/NAML-Urban-Sound-Classification/.venv/lib/python3.10/site-packages/muda/deformers/background.py:110: FutureWarning: Pass size=47325 as keyword args. From version 0.10 passing these as positional arguments will result in an error\n",
      "  y = librosa.util.fix_length(y, n_samples)\n",
      " 18%|█▊        | 149/837 [00:29<02:16,  5.05it/s]/Users/leol/Github/NAML-Urban-Sound-Classification/.venv/lib/python3.10/site-packages/muda/deformers/background.py:110: FutureWarning: Pass size=45131 as keyword args. From version 0.10 passing these as positional arguments will result in an error\n",
      "  y = librosa.util.fix_length(y, n_samples)\n",
      " 21%|██▏       | 178/837 [00:35<02:27,  4.48it/s]/Users/leol/Github/NAML-Urban-Sound-Classification/.venv/lib/python3.10/site-packages/muda/deformers/background.py:110: FutureWarning: Pass size=81364 as keyword args. From version 0.10 passing these as positional arguments will result in an error\n",
      "  y = librosa.util.fix_length(y, n_samples)\n",
      " 24%|██▍       | 199/837 [00:39<02:14,  4.74it/s]/Users/leol/Github/NAML-Urban-Sound-Classification/.venv/lib/python3.10/site-packages/muda/deformers/background.py:110: FutureWarning: Pass size=64562 as keyword args. From version 0.10 passing these as positional arguments will result in an error\n",
      "  y = librosa.util.fix_length(y, n_samples)\n",
      " 24%|██▍       | 200/837 [00:40<02:02,  5.20it/s]/Users/leol/Github/NAML-Urban-Sound-Classification/.venv/lib/python3.10/site-packages/muda/deformers/background.py:110: FutureWarning: Pass size=70549 as keyword args. From version 0.10 passing these as positional arguments will result in an error\n",
      "  y = librosa.util.fix_length(y, n_samples)\n",
      " 24%|██▍       | 201/837 [00:40<01:57,  5.42it/s]/Users/leol/Github/NAML-Urban-Sound-Classification/.venv/lib/python3.10/site-packages/muda/deformers/background.py:110: FutureWarning: Pass size=43418 as keyword args. From version 0.10 passing these as positional arguments will result in an error\n",
      "  y = librosa.util.fix_length(y, n_samples)\n",
      " 24%|██▍       | 202/837 [00:40<01:42,  6.20it/s]/Users/leol/Github/NAML-Urban-Sound-Classification/.venv/lib/python3.10/site-packages/muda/deformers/background.py:110: FutureWarning: Pass size=25773 as keyword args. From version 0.10 passing these as positional arguments will result in an error\n",
      "  y = librosa.util.fix_length(y, n_samples)\n",
      "/Users/leol/Github/NAML-Urban-Sound-Classification/.venv/lib/python3.10/site-packages/muda/deformers/background.py:110: FutureWarning: Pass size=19785 as keyword args. From version 0.10 passing these as positional arguments will result in an error\n",
      "  y = librosa.util.fix_length(y, n_samples)\n",
      " 24%|██▍       | 204/837 [00:40<01:13,  8.64it/s]/Users/leol/Github/NAML-Urban-Sound-Classification/.venv/lib/python3.10/site-packages/muda/deformers/background.py:110: FutureWarning: Pass size=20727 as keyword args. From version 0.10 passing these as positional arguments will result in an error\n",
      "  y = librosa.util.fix_length(y, n_samples)\n",
      "/Users/leol/Github/NAML-Urban-Sound-Classification/.venv/lib/python3.10/site-packages/muda/deformers/background.py:110: FutureWarning: Pass size=45818 as keyword args. From version 0.10 passing these as positional arguments will result in an error\n",
      "  y = librosa.util.fix_length(y, n_samples)\n",
      " 25%|██▍       | 206/837 [00:40<01:06,  9.52it/s]/Users/leol/Github/NAML-Urban-Sound-Classification/.venv/lib/python3.10/site-packages/muda/deformers/background.py:110: FutureWarning: Pass size=27783 as keyword args. From version 0.10 passing these as positional arguments will result in an error\n",
      "  y = librosa.util.fix_length(y, n_samples)\n",
      "/Users/leol/Github/NAML-Urban-Sound-Classification/.venv/lib/python3.10/site-packages/muda/deformers/background.py:110: FutureWarning: Pass size=22388 as keyword args. From version 0.10 passing these as positional arguments will result in an error\n",
      "  y = librosa.util.fix_length(y, n_samples)\n",
      " 25%|██▍       | 208/837 [00:40<00:57, 10.87it/s]/Users/leol/Github/NAML-Urban-Sound-Classification/.venv/lib/python3.10/site-packages/muda/deformers/background.py:110: FutureWarning: Pass size=22909 as keyword args. From version 0.10 passing these as positional arguments will result in an error\n",
      "  y = librosa.util.fix_length(y, n_samples)\n",
      "/Users/leol/Github/NAML-Urban-Sound-Classification/.venv/lib/python3.10/site-packages/muda/deformers/background.py:110: FutureWarning: Pass size=46078 as keyword args. From version 0.10 passing these as positional arguments will result in an error\n",
      "  y = librosa.util.fix_length(y, n_samples)\n",
      " 25%|██▌       | 210/837 [00:40<00:57, 10.98it/s]/Users/leol/Github/NAML-Urban-Sound-Classification/.venv/lib/python3.10/site-packages/muda/deformers/background.py:110: FutureWarning: Pass size=25344 as keyword args. From version 0.10 passing these as positional arguments will result in an error\n",
      "  y = librosa.util.fix_length(y, n_samples)\n",
      "/Users/leol/Github/NAML-Urban-Sound-Classification/.venv/lib/python3.10/site-packages/muda/deformers/background.py:110: FutureWarning: Pass size=42336 as keyword args. From version 0.10 passing these as positional arguments will result in an error\n",
      "  y = librosa.util.fix_length(y, n_samples)\n",
      " 27%|██▋       | 230/837 [00:44<02:25,  4.16it/s]/Users/leol/Github/NAML-Urban-Sound-Classification/.venv/lib/python3.10/site-packages/muda/deformers/background.py:110: FutureWarning: Pass size=82247 as keyword args. From version 0.10 passing these as positional arguments will result in an error\n",
      "  y = librosa.util.fix_length(y, n_samples)\n",
      " 32%|███▏      | 270/837 [00:55<02:26,  3.87it/s]/Users/leol/Github/NAML-Urban-Sound-Classification/.venv/lib/python3.10/site-packages/muda/deformers/background.py:110: FutureWarning: Pass size=55566 as keyword args. From version 0.10 passing these as positional arguments will result in an error\n",
      "  y = librosa.util.fix_length(y, n_samples)\n",
      " 32%|███▏      | 271/837 [00:55<02:12,  4.29it/s]/Users/leol/Github/NAML-Urban-Sound-Classification/.venv/lib/python3.10/site-packages/muda/deformers/background.py:110: FutureWarning: Pass size=43659 as keyword args. From version 0.10 passing these as positional arguments will result in an error\n",
      "  y = librosa.util.fix_length(y, n_samples)\n",
      " 32%|███▏      | 272/837 [00:55<01:55,  4.89it/s]/Users/leol/Github/NAML-Urban-Sound-Classification/.venv/lib/python3.10/site-packages/muda/deformers/background.py:110: FutureWarning: Pass size=39690 as keyword args. From version 0.10 passing these as positional arguments will result in an error\n",
      "  y = librosa.util.fix_length(y, n_samples)\n",
      " 34%|███▍      | 288/837 [00:59<02:20,  3.90it/s]/Users/leol/Github/NAML-Urban-Sound-Classification/.venv/lib/python3.10/site-packages/muda/deformers/background.py:110: FutureWarning: Pass size=9923 as keyword args. From version 0.10 passing these as positional arguments will result in an error\n",
      "  y = librosa.util.fix_length(y, n_samples)\n",
      "/Users/leol/Github/NAML-Urban-Sound-Classification/.venv/lib/python3.10/site-packages/muda/deformers/background.py:110: FutureWarning: Pass size=17199 as keyword args. From version 0.10 passing these as positional arguments will result in an error\n",
      "  y = librosa.util.fix_length(y, n_samples)\n",
      " 36%|███▋      | 305/837 [01:02<01:43,  5.16it/s]/Users/leol/Github/NAML-Urban-Sound-Classification/.venv/lib/python3.10/site-packages/muda/deformers/background.py:110: FutureWarning: Pass size=17347 as keyword args. From version 0.10 passing these as positional arguments will result in an error\n",
      "  y = librosa.util.fix_length(y, n_samples)\n",
      " 41%|████      | 343/837 [01:10<01:36,  5.11it/s]/Users/leol/Github/NAML-Urban-Sound-Classification/.venv/lib/python3.10/site-packages/muda/deformers/background.py:110: FutureWarning: Pass size=55125 as keyword args. From version 0.10 passing these as positional arguments will result in an error\n",
      "  y = librosa.util.fix_length(y, n_samples)\n",
      " 41%|████      | 345/837 [01:10<01:29,  5.53it/s]/Users/leol/Github/NAML-Urban-Sound-Classification/.venv/lib/python3.10/site-packages/muda/deformers/background.py:110: FutureWarning: Pass size=34589 as keyword args. From version 0.10 passing these as positional arguments will result in an error\n",
      "  y = librosa.util.fix_length(y, n_samples)\n",
      "/Users/leol/Github/NAML-Urban-Sound-Classification/.venv/lib/python3.10/site-packages/muda/deformers/background.py:110: FutureWarning: Pass size=28445 as keyword args. From version 0.10 passing these as positional arguments will result in an error\n",
      "  y = librosa.util.fix_length(y, n_samples)\n",
      " 41%|████▏     | 347/837 [01:10<01:05,  7.50it/s]/Users/leol/Github/NAML-Urban-Sound-Classification/.venv/lib/python3.10/site-packages/muda/deformers/background.py:110: FutureWarning: Pass size=36603 as keyword args. From version 0.10 passing these as positional arguments will result in an error\n",
      "  y = librosa.util.fix_length(y, n_samples)\n",
      "/Users/leol/Github/NAML-Urban-Sound-Classification/.venv/lib/python3.10/site-packages/muda/deformers/background.py:110: FutureWarning: Pass size=18963 as keyword args. From version 0.10 passing these as positional arguments will result in an error\n",
      "  y = librosa.util.fix_length(y, n_samples)\n",
      " 42%|████▏     | 349/837 [01:10<00:52,  9.23it/s]/Users/leol/Github/NAML-Urban-Sound-Classification/.venv/lib/python3.10/site-packages/muda/deformers/background.py:110: FutureWarning: Pass size=5264 as keyword args. From version 0.10 passing these as positional arguments will result in an error\n",
      "  y = librosa.util.fix_length(y, n_samples)\n",
      " 43%|████▎     | 363/837 [01:13<01:31,  5.16it/s]/Users/leol/Github/NAML-Urban-Sound-Classification/.venv/lib/python3.10/site-packages/muda/deformers/background.py:110: FutureWarning: Pass size=48951 as keyword args. From version 0.10 passing these as positional arguments will result in an error\n",
      "  y = librosa.util.fix_length(y, n_samples)\n",
      " 43%|████▎     | 364/837 [01:13<01:20,  5.86it/s]/Users/leol/Github/NAML-Urban-Sound-Classification/.venv/lib/python3.10/site-packages/muda/deformers/background.py:110: FutureWarning: Pass size=51802 as keyword args. From version 0.10 passing these as positional arguments will result in an error\n",
      "  y = librosa.util.fix_length(y, n_samples)\n",
      " 44%|████▎     | 365/837 [01:13<01:13,  6.40it/s]/Users/leol/Github/NAML-Urban-Sound-Classification/.venv/lib/python3.10/site-packages/muda/deformers/background.py:110: FutureWarning: Pass size=54243 as keyword args. From version 0.10 passing these as positional arguments will result in an error\n",
      "  y = librosa.util.fix_length(y, n_samples)\n",
      " 44%|████▎     | 366/837 [01:13<01:09,  6.78it/s]/Users/leol/Github/NAML-Urban-Sound-Classification/.venv/lib/python3.10/site-packages/muda/deformers/background.py:110: FutureWarning: Pass size=49319 as keyword args. From version 0.10 passing these as positional arguments will result in an error\n",
      "  y = librosa.util.fix_length(y, n_samples)\n",
      " 44%|████▍     | 367/837 [01:13<01:05,  7.19it/s]/Users/leol/Github/NAML-Urban-Sound-Classification/.venv/lib/python3.10/site-packages/muda/deformers/background.py:110: FutureWarning: Pass size=64593 as keyword args. From version 0.10 passing these as positional arguments will result in an error\n",
      "  y = librosa.util.fix_length(y, n_samples)\n",
      " 44%|████▍     | 368/837 [01:13<01:06,  7.03it/s]/Users/leol/Github/NAML-Urban-Sound-Classification/.venv/lib/python3.10/site-packages/muda/deformers/background.py:110: FutureWarning: Pass size=63725 as keyword args. From version 0.10 passing these as positional arguments will result in an error\n",
      "  y = librosa.util.fix_length(y, n_samples)\n",
      " 44%|████▍     | 369/837 [01:14<01:07,  6.96it/s]/Users/leol/Github/NAML-Urban-Sound-Classification/.venv/lib/python3.10/site-packages/muda/deformers/background.py:110: FutureWarning: Pass size=76917 as keyword args. From version 0.10 passing these as positional arguments will result in an error\n",
      "  y = librosa.util.fix_length(y, n_samples)\n",
      " 44%|████▍     | 370/837 [01:14<01:11,  6.53it/s]/Users/leol/Github/NAML-Urban-Sound-Classification/.venv/lib/python3.10/site-packages/muda/deformers/background.py:110: FutureWarning: Pass size=14333 as keyword args. From version 0.10 passing these as positional arguments will result in an error\n",
      "  y = librosa.util.fix_length(y, n_samples)\n",
      " 44%|████▍     | 372/837 [01:14<00:50,  9.22it/s]/Users/leol/Github/NAML-Urban-Sound-Classification/.venv/lib/python3.10/site-packages/muda/deformers/background.py:110: FutureWarning: Pass size=10584 as keyword args. From version 0.10 passing these as positional arguments will result in an error\n",
      "  y = librosa.util.fix_length(y, n_samples)\n",
      "/Users/leol/Github/NAML-Urban-Sound-Classification/.venv/lib/python3.10/site-packages/muda/deformers/background.py:110: FutureWarning: Pass size=38367 as keyword args. From version 0.10 passing these as positional arguments will result in an error\n",
      "  y = librosa.util.fix_length(y, n_samples)\n",
      " 46%|████▌     | 385/837 [01:16<01:26,  5.21it/s]/Users/leol/Github/NAML-Urban-Sound-Classification/.venv/lib/python3.10/site-packages/muda/deformers/background.py:110: FutureWarning: Pass size=45096 as keyword args. From version 0.10 passing these as positional arguments will result in an error\n",
      "  y = librosa.util.fix_length(y, n_samples)\n",
      " 47%|████▋     | 394/837 [01:18<01:28,  5.01it/s]/Users/leol/Github/NAML-Urban-Sound-Classification/.venv/lib/python3.10/site-packages/muda/deformers/background.py:110: FutureWarning: Pass size=47408 as keyword args. From version 0.10 passing these as positional arguments will result in an error\n",
      "  y = librosa.util.fix_length(y, n_samples)\n",
      " 50%|████▉     | 417/837 [01:22<01:20,  5.20it/s]/Users/leol/Github/NAML-Urban-Sound-Classification/.venv/lib/python3.10/site-packages/muda/deformers/background.py:110: FutureWarning: Pass size=50887 as keyword args. From version 0.10 passing these as positional arguments will result in an error\n",
      "  y = librosa.util.fix_length(y, n_samples)\n",
      " 50%|█████     | 419/837 [01:22<01:13,  5.69it/s]/Users/leol/Github/NAML-Urban-Sound-Classification/.venv/lib/python3.10/site-packages/muda/deformers/background.py:110: FutureWarning: Pass size=50274 as keyword args. From version 0.10 passing these as positional arguments will result in an error\n",
      "  y = librosa.util.fix_length(y, n_samples)\n",
      " 50%|█████     | 420/837 [01:23<01:05,  6.35it/s]/Users/leol/Github/NAML-Urban-Sound-Classification/.venv/lib/python3.10/site-packages/muda/deformers/background.py:110: FutureWarning: Pass size=58433 as keyword args. From version 0.10 passing these as positional arguments will result in an error\n",
      "  y = librosa.util.fix_length(y, n_samples)\n",
      " 50%|█████     | 421/837 [01:23<01:02,  6.68it/s]/Users/leol/Github/NAML-Urban-Sound-Classification/.venv/lib/python3.10/site-packages/muda/deformers/background.py:110: FutureWarning: Pass size=14248 as keyword args. From version 0.10 passing these as positional arguments will result in an error\n",
      "  y = librosa.util.fix_length(y, n_samples)\n",
      "/Users/leol/Github/NAML-Urban-Sound-Classification/.venv/lib/python3.10/site-packages/muda/deformers/background.py:110: FutureWarning: Pass size=26460 as keyword args. From version 0.10 passing these as positional arguments will result in an error\n",
      "  y = librosa.util.fix_length(y, n_samples)\n",
      " 51%|█████     | 423/837 [01:23<00:44,  9.24it/s]/Users/leol/Github/NAML-Urban-Sound-Classification/.venv/lib/python3.10/site-packages/muda/deformers/background.py:110: FutureWarning: Pass size=9669 as keyword args. From version 0.10 passing these as positional arguments will result in an error\n",
      "  y = librosa.util.fix_length(y, n_samples)\n",
      "/Users/leol/Github/NAML-Urban-Sound-Classification/.venv/lib/python3.10/site-packages/muda/deformers/background.py:110: FutureWarning: Pass size=12128 as keyword args. From version 0.10 passing these as positional arguments will result in an error\n",
      "  y = librosa.util.fix_length(y, n_samples)\n",
      "/Users/leol/Github/NAML-Urban-Sound-Classification/.venv/lib/python3.10/site-packages/muda/deformers/background.py:110: FutureWarning: Pass size=10143 as keyword args. From version 0.10 passing these as positional arguments will result in an error\n",
      "  y = librosa.util.fix_length(y, n_samples)\n",
      " 51%|█████     | 426/837 [01:23<00:29, 14.08it/s]/Users/leol/Github/NAML-Urban-Sound-Classification/.venv/lib/python3.10/site-packages/muda/deformers/background.py:110: FutureWarning: Pass size=38147 as keyword args. From version 0.10 passing these as positional arguments will result in an error\n",
      "  y = librosa.util.fix_length(y, n_samples)\n",
      "/Users/leol/Github/NAML-Urban-Sound-Classification/.venv/lib/python3.10/site-packages/muda/deformers/background.py:110: FutureWarning: Pass size=43218 as keyword args. From version 0.10 passing these as positional arguments will result in an error\n",
      "  y = librosa.util.fix_length(y, n_samples)\n",
      " 54%|█████▍    | 450/837 [01:27<01:16,  5.05it/s]/Users/leol/Github/NAML-Urban-Sound-Classification/.venv/lib/python3.10/site-packages/muda/deformers/background.py:110: FutureWarning: Pass size=18522 as keyword args. From version 0.10 passing these as positional arguments will result in an error\n",
      "  y = librosa.util.fix_length(y, n_samples)\n",
      "/Users/leol/Github/NAML-Urban-Sound-Classification/.venv/lib/python3.10/site-packages/muda/deformers/background.py:110: FutureWarning: Pass size=44100 as keyword args. From version 0.10 passing these as positional arguments will result in an error\n",
      "  y = librosa.util.fix_length(y, n_samples)\n",
      " 55%|█████▍    | 458/837 [01:29<01:33,  4.06it/s]/Users/leol/Github/NAML-Urban-Sound-Classification/.venv/lib/python3.10/site-packages/muda/deformers/background.py:110: FutureWarning: Pass size=22712 as keyword args. From version 0.10 passing these as positional arguments will result in an error\n",
      "  y = librosa.util.fix_length(y, n_samples)\n",
      "/Users/leol/Github/NAML-Urban-Sound-Classification/.venv/lib/python3.10/site-packages/muda/deformers/background.py:110: FutureWarning: Pass size=58417 as keyword args. From version 0.10 passing these as positional arguments will result in an error\n",
      "  y = librosa.util.fix_length(y, n_samples)\n",
      " 55%|█████▍    | 460/837 [01:29<01:12,  5.20it/s]/Users/leol/Github/NAML-Urban-Sound-Classification/.venv/lib/python3.10/site-packages/muda/deformers/background.py:110: FutureWarning: Pass size=34178 as keyword args. From version 0.10 passing these as positional arguments will result in an error\n",
      "  y = librosa.util.fix_length(y, n_samples)\n",
      " 55%|█████▌    | 461/837 [01:29<01:04,  5.83it/s]/Users/leol/Github/NAML-Urban-Sound-Classification/.venv/lib/python3.10/site-packages/muda/deformers/background.py:110: FutureWarning: Pass size=51293 as keyword args. From version 0.10 passing these as positional arguments will result in an error\n",
      "  y = librosa.util.fix_length(y, n_samples)\n",
      " 55%|█████▌    | 462/837 [01:30<01:02,  5.97it/s]/Users/leol/Github/NAML-Urban-Sound-Classification/.venv/lib/python3.10/site-packages/muda/deformers/background.py:110: FutureWarning: Pass size=66966 as keyword args. From version 0.10 passing these as positional arguments will result in an error\n",
      "  y = librosa.util.fix_length(y, n_samples)\n",
      " 55%|█████▌    | 463/837 [01:30<01:05,  5.70it/s]/Users/leol/Github/NAML-Urban-Sound-Classification/.venv/lib/python3.10/site-packages/muda/deformers/background.py:110: FutureWarning: Pass size=41234 as keyword args. From version 0.10 passing these as positional arguments will result in an error\n",
      "  y = librosa.util.fix_length(y, n_samples)\n",
      " 55%|█████▌    | 464/837 [01:30<01:00,  6.17it/s]/Users/leol/Github/NAML-Urban-Sound-Classification/.venv/lib/python3.10/site-packages/muda/deformers/background.py:110: FutureWarning: Pass size=49833 as keyword args. From version 0.10 passing these as positional arguments will result in an error\n",
      "  y = librosa.util.fix_length(y, n_samples)\n",
      " 56%|█████▌    | 465/837 [01:30<00:59,  6.30it/s]/Users/leol/Github/NAML-Urban-Sound-Classification/.venv/lib/python3.10/site-packages/muda/deformers/background.py:110: FutureWarning: Pass size=72665 as keyword args. From version 0.10 passing these as positional arguments will result in an error\n",
      "  y = librosa.util.fix_length(y, n_samples)\n",
      " 56%|█████▌    | 466/837 [01:30<01:04,  5.74it/s]/Users/leol/Github/NAML-Urban-Sound-Classification/.venv/lib/python3.10/site-packages/muda/deformers/background.py:110: FutureWarning: Pass size=46967 as keyword args. From version 0.10 passing these as positional arguments will result in an error\n",
      "  y = librosa.util.fix_length(y, n_samples)\n",
      " 60%|█████▉    | 502/837 [01:37<01:05,  5.11it/s]/Users/leol/Github/NAML-Urban-Sound-Classification/.venv/lib/python3.10/site-packages/muda/deformers/background.py:110: FutureWarning: Pass size=69417 as keyword args. From version 0.10 passing these as positional arguments will result in an error\n",
      "  y = librosa.util.fix_length(y, n_samples)\n",
      " 60%|██████    | 506/837 [01:38<01:06,  4.99it/s]/Users/leol/Github/NAML-Urban-Sound-Classification/.venv/lib/python3.10/site-packages/muda/deformers/background.py:110: FutureWarning: Pass size=23118 as keyword args. From version 0.10 passing these as positional arguments will result in an error\n",
      "  y = librosa.util.fix_length(y, n_samples)\n",
      " 62%|██████▏   | 523/837 [01:42<01:17,  4.04it/s]/Users/leol/Github/NAML-Urban-Sound-Classification/.venv/lib/python3.10/site-packages/muda/deformers/background.py:110: FutureWarning: Pass size=41861 as keyword args. From version 0.10 passing these as positional arguments will result in an error\n",
      "  y = librosa.util.fix_length(y, n_samples)\n",
      " 63%|██████▎   | 524/837 [01:42<01:04,  4.88it/s]/Users/leol/Github/NAML-Urban-Sound-Classification/.venv/lib/python3.10/site-packages/muda/deformers/background.py:110: FutureWarning: Pass size=39825 as keyword args. From version 0.10 passing these as positional arguments will result in an error\n",
      "  y = librosa.util.fix_length(y, n_samples)\n",
      " 63%|██████▎   | 526/837 [01:42<00:44,  6.92it/s]/Users/leol/Github/NAML-Urban-Sound-Classification/.venv/lib/python3.10/site-packages/muda/deformers/background.py:110: FutureWarning: Pass size=27493 as keyword args. From version 0.10 passing these as positional arguments will result in an error\n",
      "  y = librosa.util.fix_length(y, n_samples)\n",
      "/Users/leol/Github/NAML-Urban-Sound-Classification/.venv/lib/python3.10/site-packages/muda/deformers/background.py:110: FutureWarning: Pass size=18894 as keyword args. From version 0.10 passing these as positional arguments will result in an error\n",
      "  y = librosa.util.fix_length(y, n_samples)\n",
      " 63%|██████▎   | 528/837 [01:42<00:34,  8.92it/s]/Users/leol/Github/NAML-Urban-Sound-Classification/.venv/lib/python3.10/site-packages/muda/deformers/background.py:110: FutureWarning: Pass size=23969 as keyword args. From version 0.10 passing these as positional arguments will result in an error\n",
      "  y = librosa.util.fix_length(y, n_samples)\n",
      " 65%|██████▌   | 548/837 [01:46<00:57,  5.01it/s]/Users/leol/Github/NAML-Urban-Sound-Classification/.venv/lib/python3.10/site-packages/muda/deformers/background.py:110: FutureWarning: Pass size=33013 as keyword args. From version 0.10 passing these as positional arguments will result in an error\n",
      "  y = librosa.util.fix_length(y, n_samples)\n",
      "/Users/leol/Github/NAML-Urban-Sound-Classification/.venv/lib/python3.10/site-packages/muda/deformers/background.py:110: FutureWarning: Pass size=64967 as keyword args. From version 0.10 passing these as positional arguments will result in an error\n",
      "  y = librosa.util.fix_length(y, n_samples)\n",
      " 67%|██████▋   | 560/837 [01:48<00:54,  5.11it/s]/Users/leol/Github/NAML-Urban-Sound-Classification/.venv/lib/python3.10/site-packages/muda/deformers/background.py:110: FutureWarning: Pass size=32807 as keyword args. From version 0.10 passing these as positional arguments will result in an error\n",
      "  y = librosa.util.fix_length(y, n_samples)\n",
      "/Users/leol/Github/NAML-Urban-Sound-Classification/.venv/lib/python3.10/site-packages/muda/deformers/background.py:110: FutureWarning: Pass size=36162 as keyword args. From version 0.10 passing these as positional arguments will result in an error\n",
      "  y = librosa.util.fix_length(y, n_samples)\n",
      " 67%|██████▋   | 562/837 [01:49<00:39,  6.96it/s]/Users/leol/Github/NAML-Urban-Sound-Classification/.venv/lib/python3.10/site-packages/muda/deformers/background.py:110: FutureWarning: Pass size=33659 as keyword args. From version 0.10 passing these as positional arguments will result in an error\n",
      "  y = librosa.util.fix_length(y, n_samples)\n",
      "/Users/leol/Github/NAML-Urban-Sound-Classification/.venv/lib/python3.10/site-packages/muda/deformers/background.py:110: FutureWarning: Pass size=33516 as keyword args. From version 0.10 passing these as positional arguments will result in an error\n",
      "  y = librosa.util.fix_length(y, n_samples)\n",
      " 67%|██████▋   | 564/837 [01:49<00:32,  8.40it/s]/Users/leol/Github/NAML-Urban-Sound-Classification/.venv/lib/python3.10/site-packages/muda/deformers/background.py:110: FutureWarning: Pass size=12743 as keyword args. From version 0.10 passing these as positional arguments will result in an error\n",
      "  y = librosa.util.fix_length(y, n_samples)\n",
      "/Users/leol/Github/NAML-Urban-Sound-Classification/.venv/lib/python3.10/site-packages/muda/deformers/background.py:110: FutureWarning: Pass size=16218 as keyword args. From version 0.10 passing these as positional arguments will result in an error\n",
      "  y = librosa.util.fix_length(y, n_samples)\n",
      " 68%|██████▊   | 570/837 [01:49<00:35,  7.53it/s]/Users/leol/Github/NAML-Urban-Sound-Classification/.venv/lib/python3.10/site-packages/muda/deformers/background.py:110: FutureWarning: Pass size=21830 as keyword args. From version 0.10 passing these as positional arguments will result in an error\n",
      "  y = librosa.util.fix_length(y, n_samples)\n",
      " 68%|██████▊   | 572/837 [01:50<00:29,  8.95it/s]/Users/leol/Github/NAML-Urban-Sound-Classification/.venv/lib/python3.10/site-packages/muda/deformers/background.py:110: FutureWarning: Pass size=69458 as keyword args. From version 0.10 passing these as positional arguments will result in an error\n",
      "  y = librosa.util.fix_length(y, n_samples)\n",
      "/Users/leol/Github/NAML-Urban-Sound-Classification/.venv/lib/python3.10/site-packages/muda/deformers/background.py:110: FutureWarning: Pass size=29327 as keyword args. From version 0.10 passing these as positional arguments will result in an error\n",
      "  y = librosa.util.fix_length(y, n_samples)\n",
      " 69%|██████▊   | 574/837 [01:50<00:29,  8.84it/s]/Users/leol/Github/NAML-Urban-Sound-Classification/.venv/lib/python3.10/site-packages/muda/deformers/background.py:110: FutureWarning: Pass size=29241 as keyword args. From version 0.10 passing these as positional arguments will result in an error\n",
      "  y = librosa.util.fix_length(y, n_samples)\n",
      "/Users/leol/Github/NAML-Urban-Sound-Classification/.venv/lib/python3.10/site-packages/muda/deformers/background.py:110: FutureWarning: Pass size=52259 as keyword args. From version 0.10 passing these as positional arguments will result in an error\n",
      "  y = librosa.util.fix_length(y, n_samples)\n",
      " 69%|██████▉   | 576/837 [01:50<00:28,  9.20it/s]/Users/leol/Github/NAML-Urban-Sound-Classification/.venv/lib/python3.10/site-packages/muda/deformers/background.py:110: FutureWarning: Pass size=5498 as keyword args. From version 0.10 passing these as positional arguments will result in an error\n",
      "  y = librosa.util.fix_length(y, n_samples)\n",
      " 69%|██████▉   | 578/837 [01:50<00:28,  9.15it/s]/Users/leol/Github/NAML-Urban-Sound-Classification/.venv/lib/python3.10/site-packages/muda/deformers/background.py:110: FutureWarning: Pass size=15834 as keyword args. From version 0.10 passing these as positional arguments will result in an error\n",
      "  y = librosa.util.fix_length(y, n_samples)\n",
      "/Users/leol/Github/NAML-Urban-Sound-Classification/.venv/lib/python3.10/site-packages/muda/deformers/background.py:110: FutureWarning: Pass size=12975 as keyword args. From version 0.10 passing these as positional arguments will result in an error\n",
      "  y = librosa.util.fix_length(y, n_samples)\n",
      "/Users/leol/Github/NAML-Urban-Sound-Classification/.venv/lib/python3.10/site-packages/muda/deformers/background.py:110: FutureWarning: Pass size=64134 as keyword args. From version 0.10 passing these as positional arguments will result in an error\n",
      "  y = librosa.util.fix_length(y, n_samples)\n",
      " 69%|██████▉   | 581/837 [01:50<00:24, 10.25it/s]/Users/leol/Github/NAML-Urban-Sound-Classification/.venv/lib/python3.10/site-packages/muda/deformers/background.py:110: FutureWarning: Pass size=58212 as keyword args. From version 0.10 passing these as positional arguments will result in an error\n",
      "  y = librosa.util.fix_length(y, n_samples)\n",
      " 72%|███████▏  | 603/837 [01:55<00:45,  5.11it/s]/Users/leol/Github/NAML-Urban-Sound-Classification/.venv/lib/python3.10/site-packages/muda/deformers/background.py:110: FutureWarning: Pass size=10364 as keyword args. From version 0.10 passing these as positional arguments will result in an error\n",
      "  y = librosa.util.fix_length(y, n_samples)\n",
      " 73%|███████▎  | 608/837 [01:56<00:41,  5.53it/s]/Users/leol/Github/NAML-Urban-Sound-Classification/.venv/lib/python3.10/site-packages/muda/deformers/background.py:110: FutureWarning: Pass size=77131 as keyword args. From version 0.10 passing these as positional arguments will result in an error\n",
      "  y = librosa.util.fix_length(y, n_samples)\n",
      " 73%|███████▎  | 609/837 [01:56<00:40,  5.61it/s]/Users/leol/Github/NAML-Urban-Sound-Classification/.venv/lib/python3.10/site-packages/muda/deformers/background.py:110: FutureWarning: Pass size=30429 as keyword args. From version 0.10 passing these as positional arguments will result in an error\n",
      "  y = librosa.util.fix_length(y, n_samples)\n",
      "/Users/leol/Github/NAML-Urban-Sound-Classification/.venv/lib/python3.10/site-packages/muda/deformers/background.py:110: FutureWarning: Pass size=31723 as keyword args. From version 0.10 passing these as positional arguments will result in an error\n",
      "  y = librosa.util.fix_length(y, n_samples)\n",
      " 73%|███████▎  | 611/837 [01:56<00:30,  7.52it/s]/Users/leol/Github/NAML-Urban-Sound-Classification/.venv/lib/python3.10/site-packages/muda/deformers/background.py:110: FutureWarning: Pass size=41675 as keyword args. From version 0.10 passing these as positional arguments will result in an error\n",
      "  y = librosa.util.fix_length(y, n_samples)\n",
      "/Users/leol/Github/NAML-Urban-Sound-Classification/.venv/lib/python3.10/site-packages/muda/deformers/background.py:110: FutureWarning: Pass size=57771 as keyword args. From version 0.10 passing these as positional arguments will result in an error\n",
      "  y = librosa.util.fix_length(y, n_samples)\n",
      " 73%|███████▎  | 613/837 [01:56<00:28,  7.93it/s]/Users/leol/Github/NAML-Urban-Sound-Classification/.venv/lib/python3.10/site-packages/muda/deformers/background.py:110: FutureWarning: Pass size=48510 as keyword args. From version 0.10 passing these as positional arguments will result in an error\n",
      "  y = librosa.util.fix_length(y, n_samples)\n",
      " 75%|███████▌  | 629/837 [01:59<00:40,  5.11it/s]/Users/leol/Github/NAML-Urban-Sound-Classification/.venv/lib/python3.10/site-packages/muda/deformers/background.py:110: FutureWarning: Pass size=61740 as keyword args. From version 0.10 passing these as positional arguments will result in an error\n",
      "  y = librosa.util.fix_length(y, n_samples)\n",
      " 76%|███████▌  | 637/837 [02:01<00:39,  5.08it/s]/Users/leol/Github/NAML-Urban-Sound-Classification/.venv/lib/python3.10/site-packages/muda/deformers/background.py:110: FutureWarning: Pass size=25578 as keyword args. From version 0.10 passing these as positional arguments will result in an error\n",
      "  y = librosa.util.fix_length(y, n_samples)\n",
      " 76%|███████▋  | 639/837 [02:01<00:26,  7.35it/s]/Users/leol/Github/NAML-Urban-Sound-Classification/.venv/lib/python3.10/site-packages/muda/deformers/background.py:110: FutureWarning: Pass size=28389 as keyword args. From version 0.10 passing these as positional arguments will result in an error\n",
      "  y = librosa.util.fix_length(y, n_samples)\n",
      " 78%|███████▊  | 649/837 [02:03<00:35,  5.31it/s]/Users/leol/Github/NAML-Urban-Sound-Classification/.venv/lib/python3.10/site-packages/muda/deformers/background.py:110: FutureWarning: Pass size=30134 as keyword args. From version 0.10 passing these as positional arguments will result in an error\n",
      "  y = librosa.util.fix_length(y, n_samples)\n",
      " 78%|███████▊  | 654/837 [02:04<00:35,  5.20it/s]/Users/leol/Github/NAML-Urban-Sound-Classification/.venv/lib/python3.10/site-packages/muda/deformers/background.py:110: FutureWarning: Pass size=67032 as keyword args. From version 0.10 passing these as positional arguments will result in an error\n",
      "  y = librosa.util.fix_length(y, n_samples)\n",
      " 88%|████████▊ | 735/837 [02:20<00:20,  4.95it/s]/Users/leol/Github/NAML-Urban-Sound-Classification/.venv/lib/python3.10/site-packages/muda/deformers/background.py:110: FutureWarning: Pass size=21991 as keyword args. From version 0.10 passing these as positional arguments will result in an error\n",
      "  y = librosa.util.fix_length(y, n_samples)\n",
      "/Users/leol/Github/NAML-Urban-Sound-Classification/.venv/lib/python3.10/site-packages/muda/deformers/background.py:110: FutureWarning: Pass size=16673 as keyword args. From version 0.10 passing these as positional arguments will result in an error\n",
      "  y = librosa.util.fix_length(y, n_samples)\n",
      " 88%|████████▊ | 737/837 [02:20<00:13,  7.48it/s]/Users/leol/Github/NAML-Urban-Sound-Classification/.venv/lib/python3.10/site-packages/muda/deformers/background.py:110: FutureWarning: Pass size=17392 as keyword args. From version 0.10 passing these as positional arguments will result in an error\n",
      "  y = librosa.util.fix_length(y, n_samples)\n",
      "/Users/leol/Github/NAML-Urban-Sound-Classification/.venv/lib/python3.10/site-packages/muda/deformers/background.py:110: FutureWarning: Pass size=15380 as keyword args. From version 0.10 passing these as positional arguments will result in an error\n",
      "  y = librosa.util.fix_length(y, n_samples)\n",
      "/Users/leol/Github/NAML-Urban-Sound-Classification/.venv/lib/python3.10/site-packages/muda/deformers/background.py:110: FutureWarning: Pass size=29758 as keyword args. From version 0.10 passing these as positional arguments will result in an error\n",
      "  y = librosa.util.fix_length(y, n_samples)\n",
      " 88%|████████▊ | 740/837 [02:20<00:09, 10.52it/s]/Users/leol/Github/NAML-Urban-Sound-Classification/.venv/lib/python3.10/site-packages/muda/deformers/background.py:110: FutureWarning: Pass size=41431 as keyword args. From version 0.10 passing these as positional arguments will result in an error\n",
      "  y = librosa.util.fix_length(y, n_samples)\n",
      "/Users/leol/Github/NAML-Urban-Sound-Classification/.venv/lib/python3.10/site-packages/muda/deformers/background.py:110: FutureWarning: Pass size=64518 as keyword args. From version 0.10 passing these as positional arguments will result in an error\n",
      "  y = librosa.util.fix_length(y, n_samples)\n",
      " 89%|████████▊ | 742/837 [02:20<00:09,  9.67it/s]/Users/leol/Github/NAML-Urban-Sound-Classification/.venv/lib/python3.10/site-packages/muda/deformers/background.py:110: FutureWarning: Pass size=26212 as keyword args. From version 0.10 passing these as positional arguments will result in an error\n",
      "  y = librosa.util.fix_length(y, n_samples)\n",
      " 93%|█████████▎| 782/837 [02:27<00:10,  5.16it/s]/Users/leol/Github/NAML-Urban-Sound-Classification/.venv/lib/python3.10/site-packages/muda/deformers/background.py:110: FutureWarning: Pass size=29952 as keyword args. From version 0.10 passing these as positional arguments will result in an error\n",
      "  y = librosa.util.fix_length(y, n_samples)\n",
      " 94%|█████████▍| 787/837 [02:28<00:09,  5.34it/s]/Users/leol/Github/NAML-Urban-Sound-Classification/.venv/lib/python3.10/site-packages/muda/deformers/background.py:110: FutureWarning: Pass size=24255 as keyword args. From version 0.10 passing these as positional arguments will result in an error\n",
      "  y = librosa.util.fix_length(y, n_samples)\n",
      "/Users/leol/Github/NAML-Urban-Sound-Classification/.venv/lib/python3.10/site-packages/muda/deformers/background.py:110: FutureWarning: Pass size=42964 as keyword args. From version 0.10 passing these as positional arguments will result in an error\n",
      "  y = librosa.util.fix_length(y, n_samples)\n",
      " 97%|█████████▋| 809/837 [02:32<00:05,  5.01it/s]/Users/leol/Github/NAML-Urban-Sound-Classification/.venv/lib/python3.10/site-packages/muda/deformers/background.py:110: FutureWarning: Pass size=25330 as keyword args. From version 0.10 passing these as positional arguments will result in an error\n",
      "  y = librosa.util.fix_length(y, n_samples)\n",
      "100%|██████████| 837/837 [02:38<00:00,  5.28it/s]\n"
     ]
    },
    {
     "name": "stdout",
     "output_type": "stream",
     "text": [
      "Done processing files with deformer: bgnoise ✅\n",
      "Processing files with deformer: stretch ⚙️\n"
     ]
    },
    {
     "name": "stderr",
     "output_type": "stream",
     "text": [
      "100%|██████████| 837/837 [02:11<00:00,  6.37it/s]\n"
     ]
    },
    {
     "name": "stdout",
     "output_type": "stream",
     "text": [
      "Done processing files with deformer: stretch ✅\n",
      "Processing files with deformer: pitch1 ⚙️\n"
     ]
    },
    {
     "name": "stderr",
     "output_type": "stream",
     "text": [
      "100%|██████████| 837/837 [03:00<00:00,  4.64it/s]\n"
     ]
    },
    {
     "name": "stdout",
     "output_type": "stream",
     "text": [
      "Done processing files with deformer: pitch1 ✅\n",
      "Processing files with deformer: pitch2 ⚙️\n"
     ]
    },
    {
     "name": "stderr",
     "output_type": "stream",
     "text": [
      "100%|██████████| 837/837 [03:06<00:00,  4.48it/s]\n"
     ]
    },
    {
     "name": "stdout",
     "output_type": "stream",
     "text": [
      "Done processing files with deformer: pitch2 ✅\n",
      "Processing files with deformer: drc ⚙️\n"
     ]
    },
    {
     "name": "stderr",
     "output_type": "stream",
     "text": [
      "  1%|          | 6/837 [00:00<01:13, 11.36it/s]sox WARN compand: compand clipped 1 samples; decrease volume?\n",
      "sox WARN dither: dither clipped 1 samples; decrease volume?\n",
      "sox WARN compand: compand clipped 1 samples; decrease volume?\n",
      "sox WARN dither: dither clipped 1 samples; decrease volume?\n",
      " 18%|█▊        | 148/837 [00:16<01:13,  9.38it/s]sox WARN compand: compand clipped 6 samples; decrease volume?\n",
      "sox WARN dither: dither clipped 5 samples; decrease volume?\n",
      " 27%|██▋       | 230/837 [00:25<01:32,  6.59it/s]sox WARN compand: compand clipped 1 samples; decrease volume?\n",
      "sox WARN dither: dither clipped 1 samples; decrease volume?\n",
      " 28%|██▊       | 235/837 [00:26<01:43,  5.84it/s]sox WARN compand: compand clipped 13 samples; decrease volume?\n",
      "sox WARN dither: dither clipped 13 samples; decrease volume?\n",
      " 28%|██▊       | 236/837 [00:26<01:58,  5.06it/s]sox WARN compand: compand clipped 11 samples; decrease volume?\n",
      "sox WARN dither: dither clipped 8 samples; decrease volume?\n",
      " 28%|██▊       | 237/837 [00:27<01:54,  5.24it/s]sox WARN compand: compand clipped 16 samples; decrease volume?\n",
      "sox WARN dither: dither clipped 14 samples; decrease volume?\n",
      " 28%|██▊       | 238/837 [00:27<01:50,  5.40it/s]sox WARN compand: compand clipped 1 samples; decrease volume?\n",
      "sox WARN dither: dither clipped 1 samples; decrease volume?\n",
      " 29%|██▉       | 244/837 [00:28<01:45,  5.63it/s]sox WARN compand: compand clipped 2 samples; decrease volume?\n",
      "sox WARN dither: dither clipped 2 samples; decrease volume?\n",
      " 29%|██▉       | 246/837 [00:28<01:43,  5.69it/s]sox WARN compand: compand clipped 1 samples; decrease volume?\n",
      " 30%|███       | 252/837 [00:29<01:41,  5.76it/s]sox WARN compand: compand clipped 3 samples; decrease volume?\n",
      "sox WARN dither: dither clipped 3 samples; decrease volume?\n",
      " 30%|███       | 253/837 [00:29<01:41,  5.74it/s]sox WARN compand: compand clipped 8 samples; decrease volume?\n",
      "sox WARN dither: dither clipped 6 samples; decrease volume?\n",
      " 30%|███       | 254/837 [00:30<01:43,  5.63it/s]sox WARN compand: compand clipped 6 samples; decrease volume?\n",
      "sox WARN dither: dither clipped 5 samples; decrease volume?\n",
      " 30%|███       | 255/837 [00:30<01:42,  5.66it/s]sox WARN compand: compand clipped 1 samples; decrease volume?\n",
      "sox WARN dither: dither clipped 1 samples; decrease volume?\n",
      " 31%|███▏      | 262/837 [00:31<01:43,  5.58it/s]sox WARN compand: compand clipped 2 samples; decrease volume?\n",
      "sox WARN dither: dither clipped 2 samples; decrease volume?\n",
      " 32%|███▏      | 270/837 [00:33<01:41,  5.58it/s]sox WARN compand: compand clipped 4 samples; decrease volume?\n",
      "sox WARN dither: dither clipped 2 samples; decrease volume?\n",
      " 33%|███▎      | 273/837 [00:33<01:16,  7.42it/s]sox WARN compand: compand clipped 12 samples; decrease volume?\n",
      "sox WARN dither: dither clipped 9 samples; decrease volume?\n",
      " 33%|███▎      | 274/837 [00:33<01:23,  6.78it/s]sox WARN compand: compand clipped 8 samples; decrease volume?\n",
      "sox WARN dither: dither clipped 7 samples; decrease volume?\n",
      " 33%|███▎      | 276/837 [00:33<01:34,  5.93it/s]sox WARN compand: compand clipped 5 samples; decrease volume?\n",
      "sox WARN dither: dither clipped 4 samples; decrease volume?\n",
      " 33%|███▎      | 277/837 [00:34<01:35,  5.85it/s]sox WARN compand: compand clipped 6 samples; decrease volume?\n",
      "sox WARN dither: dither clipped 6 samples; decrease volume?\n",
      " 33%|███▎      | 278/837 [00:34<01:35,  5.86it/s]sox WARN compand: compand clipped 1 samples; decrease volume?\n",
      "sox WARN dither: dither clipped 1 samples; decrease volume?\n",
      " 34%|███▎      | 281/837 [00:34<01:35,  5.84it/s]sox WARN compand: compand clipped 1 samples; decrease volume?\n",
      "sox WARN dither: dither clipped 1 samples; decrease volume?\n",
      " 42%|████▏     | 349/837 [00:42<00:42, 11.49it/s]sox WARN compand: compand clipped 2 samples; decrease volume?\n",
      "sox WARN dither: dither clipped 2 samples; decrease volume?\n",
      " 43%|████▎     | 358/837 [00:43<00:53,  8.97it/s]sox WARN compand: compand clipped 21 samples; decrease volume?\n",
      "sox WARN dither: dither clipped 19 samples; decrease volume?\n",
      " 62%|██████▏   | 522/837 [01:02<00:52,  6.02it/s]sox WARN compand: compand clipped 1 samples; decrease volume?\n",
      "sox WARN dither: dither clipped 1 samples; decrease volume?\n",
      " 71%|███████   | 591/837 [01:09<00:27,  8.90it/s]sox WARN compand: compand clipped 15 samples; decrease volume?\n",
      "sox WARN dither: dither clipped 12 samples; decrease volume?\n",
      " 72%|███████▏  | 605/837 [01:11<00:24,  9.47it/s]sox WARN compand: compand clipped 7 samples; decrease volume?\n",
      "sox WARN dither: dither clipped 4 samples; decrease volume?\n",
      " 77%|███████▋  | 646/837 [01:15<00:20,  9.27it/s]sox WARN compand: compand clipped 1 samples; decrease volume?\n",
      "sox WARN dither: dither clipped 1 samples; decrease volume?\n",
      " 77%|███████▋  | 647/837 [01:16<00:21,  8.97it/s]sox WARN compand: compand clipped 2 samples; decrease volume?\n",
      "sox WARN dither: dither clipped 1 samples; decrease volume?\n",
      " 77%|███████▋  | 648/837 [01:16<00:21,  8.82it/s]sox WARN compand: compand clipped 6 samples; decrease volume?\n",
      "sox WARN dither: dither clipped 6 samples; decrease volume?\n",
      " 78%|███████▊  | 649/837 [01:16<00:21,  8.78it/s]sox WARN compand: compand clipped 4 samples; decrease volume?\n",
      "sox WARN dither: dither clipped 2 samples; decrease volume?\n",
      " 78%|███████▊  | 656/837 [01:17<00:19,  9.44it/s]sox WARN compand: compand clipped 7 samples; decrease volume?\n",
      "sox WARN dither: dither clipped 4 samples; decrease volume?\n",
      " 79%|███████▊  | 658/837 [01:17<00:19,  9.30it/s]sox WARN compand: compand clipped 3 samples; decrease volume?\n",
      "sox WARN dither: dither clipped 2 samples; decrease volume?\n",
      " 87%|████████▋ | 728/837 [01:25<00:12,  8.56it/s]sox WARN compand: compand clipped 3 samples; decrease volume?\n",
      "sox WARN dither: dither clipped 2 samples; decrease volume?\n",
      " 91%|█████████ | 761/837 [01:28<00:07, 10.02it/s]sox WARN compand: compand clipped 1 samples; decrease volume?\n",
      "sox WARN dither: dither clipped 1 samples; decrease volume?\n",
      "sox WARN compand: compand clipped 6 samples; decrease volume?\n",
      "sox WARN dither: dither clipped 5 samples; decrease volume?\n",
      " 92%|█████████▏| 766/837 [01:29<00:08,  8.45it/s]sox WARN compand: compand clipped 2 samples; decrease volume?\n",
      "sox WARN dither: dither clipped 1 samples; decrease volume?\n",
      " 92%|█████████▏| 769/837 [01:29<00:07,  8.57it/s]sox WARN compand: compand clipped 1 samples; decrease volume?\n",
      "sox WARN dither: dither clipped 1 samples; decrease volume?\n",
      " 92%|█████████▏| 771/837 [01:29<00:08,  8.11it/s]sox WARN compand: compand clipped 1 samples; decrease volume?\n",
      " 92%|█████████▏| 772/837 [01:29<00:07,  8.33it/s]sox WARN compand: compand clipped 3 samples; decrease volume?\n",
      "sox WARN dither: dither clipped 3 samples; decrease volume?\n",
      " 93%|█████████▎| 776/837 [01:30<00:06,  9.98it/s]sox WARN compand: compand clipped 4 samples; decrease volume?\n",
      "sox WARN dither: dither clipped 4 samples; decrease volume?\n",
      "sox WARN compand: compand clipped 2 samples; decrease volume?\n",
      "sox WARN dither: dither clipped 1 samples; decrease volume?\n",
      " 99%|█████████▉| 829/837 [01:36<00:00,  8.43it/s]sox WARN compand: compand clipped 1 samples; decrease volume?\n",
      "sox WARN dither: dither clipped 1 samples; decrease volume?\n",
      "100%|██████████| 837/837 [01:37<00:00,  8.63it/s]"
     ]
    },
    {
     "name": "stdout",
     "output_type": "stream",
     "text": [
      "Done processing files with deformer: drc ✅\n"
     ]
    },
    {
     "name": "stderr",
     "output_type": "stream",
     "text": [
      "\n"
     ]
    }
   ],
   "source": [
    "import muda\n",
    "import glob\n",
    "import os\n",
    "import tqdm\n",
    "\n",
    "folder = \"fold10\"\n",
    "folder_path = f\"data/UrbanSound8K/augmented_data/{folder}\"\n",
    "original_jams_file_path = f\"{folder_path}/original/jams\"\n",
    "audio_files_glob = f\"{folder_path}/original/audio/*.wav\"\n",
    "\n",
    "deformers_with_name = []\n",
    "\n",
    "# Setup background deformer\n",
    "background_noise_deformation_name = \"bgnoise\"\n",
    "background_audio_files_glob = \"data/UrbanSound8K/background_noise/*.wav\"\n",
    "background_deformer = muda.deformers.BackgroundNoise(files=glob.glob(background_audio_files_glob))\n",
    "\n",
    "deformers_with_name.append((background_noise_deformation_name, background_deformer))\n",
    "\n",
    "# Setup time stretching deformer\n",
    "time_stretch_deformation_name = \"stretch\"\n",
    "time_stretch_deformer = muda.Union(steps=[(f\"time-stretch-{i}\", muda.deformers.TimeStretch(rate=stretch_factor)) for i, stretch_factor in enumerate([0.81, 0.93, 1.07, 1.23])])\n",
    "\n",
    "deformers_with_name.append((time_stretch_deformation_name, time_stretch_deformer))\n",
    "\n",
    "# Setup pitch shifting 1\n",
    "pitch_shift_1_name = \"pitch1\"\n",
    "pitch_shift_1_deformer = muda.Union(steps=[(f\"pitch-shift-1-{i}\", muda.deformers.PitchShift(n_semitones=semitone_shift_factor)) for i, semitone_shift_factor in enumerate([-2, -1, 1, 2])])\n",
    "\n",
    "deformers_with_name.append((pitch_shift_1_name, pitch_shift_1_deformer))\n",
    "\n",
    "# Setup pitch shifting 2\n",
    "pitch_shift_2_name = \"pitch2\"\n",
    "pitch_shift_2_deformer = muda.Union(steps=[(f\"pitch-shift-2-{i}\", muda.deformers.PitchShift(n_semitones=semitone_shift_factor)) for i, semitone_shift_factor in enumerate([-3.5, -2.5, 2.5, 3.5])])\n",
    "\n",
    "deformers_with_name.append((pitch_shift_2_name, pitch_shift_2_deformer))\n",
    "\n",
    "# Setup Dynamic Range compression\n",
    "dynamic_range_compression_name = \"drc\"\n",
    "dynamic_range_compression_deformer = muda.deformers.DynamicRangeCompression(preset=[\"music standard\", \"film standard\", \"speech\", \"radio\"])\n",
    "\n",
    "deformers_with_name.append((dynamic_range_compression_name, dynamic_range_compression_deformer))\n",
    "\n",
    "audio_files_paths = sorted(glob.glob(audio_files_glob))\n",
    "for deformer_name, deformer in deformers_with_name:\n",
    "    print(f\"Processing files with deformer: {deformer_name} ⚙️\")\n",
    "\n",
    "    for audio_file_path in tqdm.tqdm(audio_files_paths):\n",
    "        deformed_audio_folder_path = f\"{folder_path}/{deformer_name}/audio\"\n",
    "        deformed_jams_folder_path = f\"{folder_path}/{deformer_name}/jams\"\n",
    "        os.makedirs(deformed_audio_folder_path, exist_ok=True)\n",
    "        os.makedirs(deformed_jams_folder_path, exist_ok=True)\n",
    "        file_name = os.path.basename(audio_file_path)[:-4]\n",
    "        original_jam = muda.load_jam_audio(f\"{original_jams_file_path}/{file_name}.jams\", audio_file=audio_file_path)\n",
    "        for i, deformed_jam in enumerate(deformer.transform(original_jam)):\n",
    "            muda.save(f\"{deformed_audio_folder_path}/{file_name}_{deformer_name}{i}.wav\", f\"{deformed_jams_folder_path}/{file_name}_{deformer_name}{i}.jams\", deformed_jam)\n",
    "\n",
    "    print(f\"Done processing files with deformer: {deformer_name} ✅\")"
   ]
  },
  {
   "cell_type": "markdown",
   "source": [
    "## Folds processed\n",
    "\n",
    "[x] Fold 1\n",
    "[x] Fold 2\n",
    "[x] Fold 3\n",
    "[x] Fold 4\n",
    "[x] Fold 5\n",
    "[x] Fold 6\n",
    "[x] Fold 7\n",
    "[x] Fold 8\n",
    "[x] Fold 9\n",
    "[ ] Fold 10"
   ],
   "metadata": {
    "collapsed": false
   }
  },
  {
   "cell_type": "markdown",
   "source": [
    "## Convert Audio Files to Images"
   ],
   "metadata": {
    "collapsed": false
   }
  },
  {
   "cell_type": "code",
   "execution_count": 8,
   "outputs": [
    {
     "name": "stdout",
     "output_type": "stream",
     "text": [
      "Generating images for fold=7 ⚙️\n",
      "Generating images for modification='drc' ⚙️\n"
     ]
    },
    {
     "name": "stderr",
     "output_type": "stream",
     "text": [
      "100%|██████████| 51/51 [00:13<00:00,  3.70it/s]\n"
     ]
    },
    {
     "name": "stdout",
     "output_type": "stream",
     "text": [
      "Generating images for modification='pitch2' ⚙️\n"
     ]
    },
    {
     "name": "stderr",
     "output_type": "stream",
     "text": [
      "100%|██████████| 51/51 [00:11<00:00,  4.32it/s]\n"
     ]
    },
    {
     "name": "stdout",
     "output_type": "stream",
     "text": [
      "Generating images for modification='original' ⚙️\n"
     ]
    },
    {
     "name": "stderr",
     "output_type": "stream",
     "text": [
      "100%|██████████| 12/12 [00:43<00:00,  3.62s/it]\n"
     ]
    },
    {
     "name": "stdout",
     "output_type": "stream",
     "text": [
      "Generating images for modification='stretch' ⚙️\n"
     ]
    },
    {
     "name": "stderr",
     "output_type": "stream",
     "text": [
      "100%|██████████| 51/51 [00:13<00:00,  3.89it/s]\n"
     ]
    },
    {
     "name": "stdout",
     "output_type": "stream",
     "text": [
      "Generating images for modification='pitch1' ⚙️\n"
     ]
    },
    {
     "name": "stderr",
     "output_type": "stream",
     "text": [
      "100%|██████████| 51/51 [00:18<00:00,  2.75it/s]\n"
     ]
    },
    {
     "name": "stdout",
     "output_type": "stream",
     "text": [
      "Generating images for modification='bgnoise' ⚙️\n"
     ]
    },
    {
     "name": "stderr",
     "output_type": "stream",
     "text": [
      "100%|██████████| 51/51 [00:14<00:00,  3.40it/s]\n"
     ]
    },
    {
     "name": "stdout",
     "output_type": "stream",
     "text": [
      "Done ✅\n",
      "Generating images for fold=8 ⚙️\n",
      "Generating images for modification='drc' ⚙️\n"
     ]
    },
    {
     "name": "stderr",
     "output_type": "stream",
     "text": [
      "100%|██████████| 49/49 [00:13<00:00,  3.71it/s]\n"
     ]
    },
    {
     "name": "stdout",
     "output_type": "stream",
     "text": [
      "Generating images for modification='pitch2' ⚙️\n"
     ]
    },
    {
     "name": "stderr",
     "output_type": "stream",
     "text": [
      "100%|██████████| 49/49 [00:11<00:00,  4.24it/s]\n"
     ]
    },
    {
     "name": "stdout",
     "output_type": "stream",
     "text": [
      "Generating images for modification='original' ⚙️\n"
     ]
    },
    {
     "name": "stderr",
     "output_type": "stream",
     "text": [
      "100%|██████████| 11/11 [00:43<00:00,  3.97s/it]\n"
     ]
    },
    {
     "name": "stdout",
     "output_type": "stream",
     "text": [
      "Generating images for modification='stretch' ⚙️\n"
     ]
    },
    {
     "name": "stderr",
     "output_type": "stream",
     "text": [
      "100%|██████████| 49/49 [00:13<00:00,  3.62it/s]\n"
     ]
    },
    {
     "name": "stdout",
     "output_type": "stream",
     "text": [
      "Generating images for modification='pitch1' ⚙️\n"
     ]
    },
    {
     "name": "stderr",
     "output_type": "stream",
     "text": [
      "100%|██████████| 49/49 [00:11<00:00,  4.28it/s]\n"
     ]
    },
    {
     "name": "stdout",
     "output_type": "stream",
     "text": [
      "Generating images for modification='bgnoise' ⚙️\n"
     ]
    },
    {
     "name": "stderr",
     "output_type": "stream",
     "text": [
      "100%|██████████| 49/49 [00:11<00:00,  4.21it/s]\n"
     ]
    },
    {
     "name": "stdout",
     "output_type": "stream",
     "text": [
      "Done ✅\n",
      "Generating images for fold=9 ⚙️\n",
      "Generating images for modification='drc' ⚙️\n"
     ]
    },
    {
     "name": "stderr",
     "output_type": "stream",
     "text": [
      "100%|██████████| 50/50 [00:11<00:00,  4.34it/s]\n"
     ]
    },
    {
     "name": "stdout",
     "output_type": "stream",
     "text": [
      "Generating images for modification='pitch2' ⚙️\n"
     ]
    },
    {
     "name": "stderr",
     "output_type": "stream",
     "text": [
      "100%|██████████| 50/50 [00:12<00:00,  4.02it/s]\n"
     ]
    },
    {
     "name": "stdout",
     "output_type": "stream",
     "text": [
      "Generating images for modification='original' ⚙️\n"
     ]
    },
    {
     "name": "stderr",
     "output_type": "stream",
     "text": [
      "100%|██████████| 11/11 [00:42<00:00,  3.86s/it]\n"
     ]
    },
    {
     "name": "stdout",
     "output_type": "stream",
     "text": [
      "Generating images for modification='stretch' ⚙️\n"
     ]
    },
    {
     "name": "stderr",
     "output_type": "stream",
     "text": [
      "100%|██████████| 50/50 [00:14<00:00,  3.44it/s]\n"
     ]
    },
    {
     "name": "stdout",
     "output_type": "stream",
     "text": [
      "Generating images for modification='pitch1' ⚙️\n"
     ]
    },
    {
     "name": "stderr",
     "output_type": "stream",
     "text": [
      "100%|██████████| 50/50 [00:14<00:00,  3.35it/s]\n"
     ]
    },
    {
     "name": "stdout",
     "output_type": "stream",
     "text": [
      "Generating images for modification='bgnoise' ⚙️\n"
     ]
    },
    {
     "name": "stderr",
     "output_type": "stream",
     "text": [
      "100%|██████████| 50/50 [00:12<00:00,  3.92it/s]\n"
     ]
    },
    {
     "name": "stdout",
     "output_type": "stream",
     "text": [
      "Done ✅\n",
      "Generating images for fold=10 ⚙️\n",
      "Generating images for modification='drc' ⚙️\n"
     ]
    },
    {
     "name": "stderr",
     "output_type": "stream",
     "text": [
      "100%|██████████| 51/51 [00:13<00:00,  3.74it/s]\n"
     ]
    },
    {
     "name": "stdout",
     "output_type": "stream",
     "text": [
      "Generating images for modification='pitch2' ⚙️\n"
     ]
    },
    {
     "name": "stderr",
     "output_type": "stream",
     "text": [
      "100%|██████████| 51/51 [00:13<00:00,  3.90it/s]\n"
     ]
    },
    {
     "name": "stdout",
     "output_type": "stream",
     "text": [
      "Generating images for modification='original' ⚙️\n"
     ]
    },
    {
     "name": "stderr",
     "output_type": "stream",
     "text": [
      "100%|██████████| 12/12 [00:47<00:00,  3.92s/it]\n"
     ]
    },
    {
     "name": "stdout",
     "output_type": "stream",
     "text": [
      "Generating images for modification='stretch' ⚙️\n"
     ]
    },
    {
     "name": "stderr",
     "output_type": "stream",
     "text": [
      "100%|██████████| 51/51 [00:29<00:00,  1.73it/s]\n"
     ]
    },
    {
     "name": "stdout",
     "output_type": "stream",
     "text": [
      "Generating images for modification='pitch1' ⚙️\n"
     ]
    },
    {
     "name": "stderr",
     "output_type": "stream",
     "text": [
      "100%|██████████| 51/51 [00:19<00:00,  2.59it/s]\n"
     ]
    },
    {
     "name": "stdout",
     "output_type": "stream",
     "text": [
      "Generating images for modification='bgnoise' ⚙️\n"
     ]
    },
    {
     "name": "stderr",
     "output_type": "stream",
     "text": [
      "100%|██████████| 51/51 [00:18<00:00,  2.79it/s]\n"
     ]
    },
    {
     "name": "stdout",
     "output_type": "stream",
     "text": [
      "Done ✅\n"
     ]
    }
   ],
   "source": [
    "# Convert and combine all audios of a fold\n",
    "from jams_to_image_data_generator import JamsToImageDataGenerator\n",
    "import numpy as np\n",
    "import os\n",
    "import tqdm\n",
    "\n",
    "for fold in range(7, 11):\n",
    "    print(f\"Generating images for {fold=} ⚙️\")\n",
    "\n",
    "    audio_fold_path = f\"data/UrbanSound8K/augmented_data/fold{fold}\"\n",
    "    for modification in os.listdir(audio_fold_path):\n",
    "        if modification.startswith(\".\"):\n",
    "            continue\n",
    "        print(f\"Generating images for {modification=} ⚙️\")\n",
    "\n",
    "        image_generator = JamsToImageDataGenerator(audio_fold_path, modifications_to_include=[modification])\n",
    "        images, labels = image_generator[0]\n",
    "        for batch_index in tqdm.tqdm(range(1, len(image_generator))):\n",
    "            batch_images, batch_labels = image_generator[batch_index]\n",
    "            images = np.concatenate((images, batch_images))\n",
    "            labels = np.concatenate((labels, batch_labels))\n",
    "\n",
    "        images_path = f\"data/UrbanSound8K/augmented_data_images/fold{fold}/{modification}\"\n",
    "        os.makedirs(images_path, exist_ok=True)\n",
    "        np.save(f\"{images_path}/images.npy\", images)\n",
    "        np.save(f\"{images_path}/labels.npy\", labels)\n",
    "\n",
    "    print(\"Done ✅\")"
   ],
   "metadata": {
    "collapsed": false,
    "pycharm": {
     "name": "#%%\n"
    }
   }
  },
  {
   "cell_type": "code",
   "execution_count": 13,
   "outputs": [
    {
     "name": "stderr",
     "output_type": "stream",
     "text": [
      "100%|██████████| 2/2 [00:07<00:00,  3.88s/it]\n"
     ]
    }
   ],
   "source": [
    "# Convert and combine only original audios of a fold\n",
    "from jams_to_image_data_generator import JamsToImageDataGenerator\n",
    "import numpy as np\n",
    "import os\n",
    "import tqdm\n",
    "\n",
    "fold = \"fold4\"\n",
    "dataset = \"validation\"\n",
    "train_dataset = f\"data/UrbanSound8K/augmented_data/{dataset}/{fold}\"\n",
    "\n",
    "image_generator = JamsToImageDataGenerator(train_dataset, modifications_to_include=[\"original\"])\n",
    "images, labels = image_generator[0]\n",
    "for batch_index in tqdm.tqdm(range(1, len(image_generator))):\n",
    "    batch_images, batch_labels = image_generator[batch_index]\n",
    "    images = np.concatenate((images, batch_images))\n",
    "    labels = np.concatenate((labels, batch_labels))\n",
    "\n",
    "images_path = f\"data/UrbanSound8K/images/{dataset}/{fold}\"\n",
    "os.makedirs(images_path, exist_ok=True)\n",
    "np.save(f\"{images_path}/images.npy\", images)\n",
    "np.save(f\"{images_path}/labels.npy\", labels)"
   ],
   "metadata": {
    "collapsed": false,
    "pycharm": {
     "name": "#%%\n"
    }
   }
  }
 ],
 "metadata": {
  "kernelspec": {
   "display_name": "Python 3",
   "language": "python",
   "name": "python3"
  },
  "language_info": {
   "codemirror_mode": {
    "name": "ipython",
    "version": 2
   },
   "file_extension": ".py",
   "mimetype": "text/x-python",
   "name": "python",
   "nbconvert_exporter": "python",
   "pygments_lexer": "ipython2",
   "version": "2.7.6"
  }
 },
 "nbformat": 4,
 "nbformat_minor": 0
}