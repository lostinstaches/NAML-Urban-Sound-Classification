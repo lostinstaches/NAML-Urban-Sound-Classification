{
 "cells": [
  {
   "cell_type": "code",
   "execution_count": null,
   "metadata": {
    "collapsed": true,
    "pycharm": {
     "name": "#%%\n",
     "is_executing": true
    }
   },
   "outputs": [],
   "source": [
    "import muda\n",
    "import glob\n",
    "import os\n",
    "import tqdm\n",
    "\n",
    "folder = \"fold3\"\n",
    "folder_path = f\"data/UrbanSound8K/augmented_data/train/{folder}\"\n",
    "original_jams_file_path = f\"{folder_path}/original/jams\"\n",
    "audio_files_glob = f\"{folder_path}/original/audio/*.wav\"\n",
    "\n",
    "deformers_with_name = []\n",
    "\n",
    "# Setup background deformer\n",
    "background_noise_deformation_name = \"bgnoise\"\n",
    "background_audio_files_glob = \"data/UrbanSound8K/background_noise/*.wav\"\n",
    "background_deformer = muda.deformers.BackgroundNoise(files=glob.glob(background_audio_files_glob))\n",
    "\n",
    "deformers_with_name.append((background_noise_deformation_name, background_deformer))\n",
    "\n",
    "# Setup time stretching deformer\n",
    "time_stretch_deformation_name = \"stretch\"\n",
    "time_stretch_deformer = muda.Union(steps=[(f\"time-stretch-{i}\", muda.deformers.TimeStretch(rate=stretch_factor)) for i, stretch_factor in enumerate([0.81, 0.93, 1.07, 1.23])])\n",
    "\n",
    "deformers_with_name.append((time_stretch_deformation_name, time_stretch_deformer))\n",
    "\n",
    "# Setup pitch shifting 1\n",
    "pitch_shift_1_name = \"pitch1\"\n",
    "pitch_shift_1_deformer = muda.Union(steps=[(f\"pitch-shift-1-{i}\", muda.deformers.PitchShift(n_semitones=semitone_shift_factor)) for i, semitone_shift_factor in enumerate([-2, -1, 1, 2])])\n",
    "\n",
    "deformers_with_name.append((pitch_shift_1_name, pitch_shift_1_deformer))\n",
    "\n",
    "# Setup pitch shifting 2\n",
    "pitch_shift_2_name = \"pitch2\"\n",
    "pitch_shift_2_deformer = muda.Union(steps=[(f\"pitch-shift-2-{i}\", muda.deformers.PitchShift(n_semitones=semitone_shift_factor)) for i, semitone_shift_factor in enumerate([-3.5, -2.5, 2.5, 3.5])])\n",
    "\n",
    "deformers_with_name.append((pitch_shift_2_name, pitch_shift_2_deformer))\n",
    "\n",
    "# Setup Dynamic Range compression\n",
    "dynamic_range_compression_name = \"drc\"\n",
    "dynamic_range_compression_deformer = muda.deformers.DynamicRangeCompression(preset=[\"music standard\", \"film standard\", \"speech\", \"radio\"])\n",
    "\n",
    "deformers_with_name.append((dynamic_range_compression_name, dynamic_range_compression_deformer))\n",
    "\n",
    "audio_files_paths = sorted(glob.glob(audio_files_glob))\n",
    "for deformer_name, deformer in deformers_with_name:\n",
    "    print(f\"Processing files with deformer: {deformer_name} ⚙️\")\n",
    "\n",
    "    for audio_file_path in tqdm.tqdm(audio_files_paths):\n",
    "        deformed_audio_folder_path = f\"{folder_path}/{deformer_name}/audio\"\n",
    "        deformed_jams_folder_path = f\"{folder_path}/{deformer_name}/jams\"\n",
    "        os.makedirs(deformed_audio_folder_path, exist_ok=True)\n",
    "        os.makedirs(deformed_jams_folder_path, exist_ok=True)\n",
    "        file_name = os.path.basename(audio_file_path)[:-4]\n",
    "        original_jam = muda.load_jam_audio(f\"{original_jams_file_path}/{file_name}.jams\", audio_file=audio_file_path)\n",
    "        for i, deformed_jam in enumerate(deformer.transform(original_jam)):\n",
    "            muda.save(f\"{deformed_audio_folder_path}/{file_name}_{deformer_name}{i}.wav\", f\"{deformed_jams_folder_path}/{file_name}_{deformer_name}{i}.jams\", deformed_jam)\n",
    "\n",
    "    print(f\"Done processing files with deformer: {deformer_name} ✅\")"
   ]
  },
  {
   "cell_type": "code",
   "execution_count": 32,
   "outputs": [
    {
     "name": "stderr",
     "output_type": "stream",
     "text": [
      "100%|██████████| 185/185 [00:08<00:00, 21.65it/s]\n"
     ]
    }
   ],
   "source": [
    "# Create validation dataset from augmented dataset\n",
    "from random import Random\n",
    "import os\n",
    "import glob\n",
    "import tqdm\n",
    "\n",
    "validation_split = 0.2\n",
    "rng = Random(42)\n",
    "fold = \"fold3\"\n",
    "validation_dataset = f\"data/UrbanSound8K/augmented_data/validation/{fold}\"\n",
    "train_dataset = f\"data/UrbanSound8K/augmented_data/train/{fold}\"\n",
    "\n",
    "sample_names = list(map(lambda sample_path: sample_path.split(\"/\")[-1][:-5], glob.glob(f\"{train_dataset}/original/jams/*.jams\")))\n",
    "num_validation_samples = int(len(sample_names) * validation_split)\n",
    "\n",
    "for i in tqdm.tqdm(range(num_validation_samples)):\n",
    "    rand_sample_index = rng.randint(0, len(sample_names) - 1)\n",
    "    sample_name_to_move = sample_names.pop(rand_sample_index)\n",
    "\n",
    "    for modification_name in filter(lambda mod: not mod.startswith(\".\"), os.listdir(train_dataset)):\n",
    "        os.makedirs(f\"{validation_dataset}/{modification_name}/jams\", exist_ok=True)\n",
    "        os.makedirs(f\"{validation_dataset}/{modification_name}/audio\", exist_ok=True)\n",
    "\n",
    "        # Each modification may have created multiple copies of the original\n",
    "        jams_file_glob = f\"{train_dataset}/{modification_name}/jams/{sample_name_to_move}*.jams\"\n",
    "        for jams_file_path in glob.glob(jams_file_glob):\n",
    "            os.rename(jams_file_path, jams_file_path.replace(\"train\", \"validation\")) # move jams file\n",
    "        audio_file_glob = f\"{train_dataset}/{modification_name}/audio/{sample_name_to_move}*.wav\"\n",
    "        for audio_file_path in glob.glob(audio_file_glob):\n",
    "            os.rename(audio_file_path, audio_file_path.replace(\"train\", \"validation\")) # move wav file"
   ],
   "metadata": {
    "collapsed": false,
    "pycharm": {
     "name": "#%%\n"
    }
   }
  },
  {
   "cell_type": "markdown",
   "source": [
    "## Folds processed\n",
    "\n",
    "[x] Fold 1\n",
    "[x] Fold 2\n",
    "[x] Fold 3\n",
    "[ ] Fold 4\n",
    "[ ] Fold 5\n",
    "[ ] Fold 6\n",
    "[ ] Fold 7\n",
    "[ ] Fold 8\n",
    "[ ] Fold 9\n",
    "[ ] Fold 10"
   ],
   "metadata": {
    "collapsed": false
   }
  },
  {
   "cell_type": "code",
   "execution_count": null,
   "outputs": [],
   "source": [
    "# Generate command to undo the operations\n",
    "validation_dataset = f\"data/UrbanSound8K/augmented_data/validation/{fold}\"\n",
    "train_dataset = f\"data/UrbanSound8K/augmented_data/train/{fold}\"\n",
    "\n",
    "for root, subdirs, files in os.walk(validation_dataset):\n",
    "    if len(files) > 0:\n",
    "        print(f\"mv {root}/* {root.replace('validation', 'train')}\")"
   ],
   "metadata": {
    "collapsed": false,
    "pycharm": {
     "name": "#%%\n",
     "is_executing": true
    }
   }
  },
  {
   "cell_type": "markdown",
   "source": [
    "## Convert Audio Files to Images"
   ],
   "metadata": {
    "collapsed": false
   }
  },
  {
   "cell_type": "code",
   "execution_count": 9,
   "outputs": [
    {
     "name": "stderr",
     "output_type": "stream",
     "text": [
      "100%|██████████| 64/64 [00:32<00:00,  1.95it/s]\n"
     ]
    }
   ],
   "source": [
    "from jams_to_image_data_generator import JamsToImageDataGenerator\n",
    "import numpy as np\n",
    "import os\n",
    "import tqdm\n",
    "\n",
    "fold = \"fold1\"\n",
    "dataset = \"validation\"\n",
    "train_dataset = f\"data/UrbanSound8K/augmented_data/{dataset}/{fold}\"\n",
    "\n",
    "image_generator = JamsToImageDataGenerator(train_dataset)\n",
    "images, labels = image_generator[0]\n",
    "for batch_index in tqdm.tqdm(range(1, len(image_generator))):\n",
    "    batch_images, batch_labels = image_generator[batch_index]\n",
    "    images = np.concatenate((images, batch_images))\n",
    "    labels = np.concatenate((labels, batch_labels))\n",
    "\n",
    "images_path = f\"data/UrbanSound8K/augmented_data_images/{dataset}/{fold}\"\n",
    "os.makedirs(images_path, exist_ok=True)\n",
    "np.save(f\"{images_path}/images.npy\", images)\n",
    "np.save(f\"{images_path}/labels.npy\", labels)"
   ],
   "metadata": {
    "collapsed": false,
    "pycharm": {
     "name": "#%%\n"
    }
   }
  }
 ],
 "metadata": {
  "kernelspec": {
   "display_name": "Python 3",
   "language": "python",
   "name": "python3"
  },
  "language_info": {
   "codemirror_mode": {
    "name": "ipython",
    "version": 2
   },
   "file_extension": ".py",
   "mimetype": "text/x-python",
   "name": "python",
   "nbconvert_exporter": "python",
   "pygments_lexer": "ipython2",
   "version": "2.7.6"
  }
 },
 "nbformat": 4,
 "nbformat_minor": 0
}